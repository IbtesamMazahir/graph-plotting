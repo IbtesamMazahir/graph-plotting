{
 "cells": [
  {
   "cell_type": "code",
   "execution_count": 4,
   "id": "94fd5878",
   "metadata": {},
   "outputs": [],
   "source": [
    "import matplotlib.pyplot as plt"
   ]
  },
  {
   "cell_type": "code",
   "execution_count": 5,
   "id": "3ba909d2",
   "metadata": {},
   "outputs": [],
   "source": [
    "import pandas as pd"
   ]
  },
  {
   "cell_type": "code",
   "execution_count": 58,
   "id": "32064c0f",
   "metadata": {},
   "outputs": [
    {
     "data": {
      "text/html": [
       "<div>\n",
       "<style scoped>\n",
       "    .dataframe tbody tr th:only-of-type {\n",
       "        vertical-align: middle;\n",
       "    }\n",
       "\n",
       "    .dataframe tbody tr th {\n",
       "        vertical-align: top;\n",
       "    }\n",
       "\n",
       "    .dataframe thead th {\n",
       "        text-align: right;\n",
       "    }\n",
       "</style>\n",
       "<table border=\"1\" class=\"dataframe\">\n",
       "  <thead>\n",
       "    <tr style=\"text-align: right;\">\n",
       "      <th></th>\n",
       "      <th>Year</th>\n",
       "      <th>Month</th>\n",
       "      <th>Tmax</th>\n",
       "      <th>Tmin</th>\n",
       "      <th>Rain</th>\n",
       "      <th>Sun</th>\n",
       "    </tr>\n",
       "  </thead>\n",
       "  <tbody>\n",
       "    <tr>\n",
       "      <th>0</th>\n",
       "      <td>2018</td>\n",
       "      <td>1</td>\n",
       "      <td>9.7</td>\n",
       "      <td>3.8</td>\n",
       "      <td>58.0</td>\n",
       "      <td>46.5</td>\n",
       "    </tr>\n",
       "    <tr>\n",
       "      <th>1</th>\n",
       "      <td>2018</td>\n",
       "      <td>2</td>\n",
       "      <td>6.7</td>\n",
       "      <td>0.6</td>\n",
       "      <td>29.0</td>\n",
       "      <td>92.0</td>\n",
       "    </tr>\n",
       "    <tr>\n",
       "      <th>2</th>\n",
       "      <td>2018</td>\n",
       "      <td>3</td>\n",
       "      <td>9.8</td>\n",
       "      <td>3.0</td>\n",
       "      <td>81.2</td>\n",
       "      <td>70.3</td>\n",
       "    </tr>\n",
       "    <tr>\n",
       "      <th>3</th>\n",
       "      <td>2018</td>\n",
       "      <td>4</td>\n",
       "      <td>15.5</td>\n",
       "      <td>7.9</td>\n",
       "      <td>65.2</td>\n",
       "      <td>113.4</td>\n",
       "    </tr>\n",
       "    <tr>\n",
       "      <th>4</th>\n",
       "      <td>2018</td>\n",
       "      <td>5</td>\n",
       "      <td>20.8</td>\n",
       "      <td>9.8</td>\n",
       "      <td>58.4</td>\n",
       "      <td>248.3</td>\n",
       "    </tr>\n",
       "    <tr>\n",
       "      <th>5</th>\n",
       "      <td>2018</td>\n",
       "      <td>6</td>\n",
       "      <td>24.2</td>\n",
       "      <td>13.1</td>\n",
       "      <td>0.4</td>\n",
       "      <td>234.5</td>\n",
       "    </tr>\n",
       "    <tr>\n",
       "      <th>6</th>\n",
       "      <td>2018</td>\n",
       "      <td>7</td>\n",
       "      <td>28.3</td>\n",
       "      <td>16.4</td>\n",
       "      <td>14.8</td>\n",
       "      <td>272.5</td>\n",
       "    </tr>\n",
       "    <tr>\n",
       "      <th>7</th>\n",
       "      <td>2018</td>\n",
       "      <td>8</td>\n",
       "      <td>24.5</td>\n",
       "      <td>14.5</td>\n",
       "      <td>48.2</td>\n",
       "      <td>182.1</td>\n",
       "    </tr>\n",
       "    <tr>\n",
       "      <th>8</th>\n",
       "      <td>2018</td>\n",
       "      <td>9</td>\n",
       "      <td>20.9</td>\n",
       "      <td>11.0</td>\n",
       "      <td>29.4</td>\n",
       "      <td>195.0</td>\n",
       "    </tr>\n",
       "    <tr>\n",
       "      <th>9</th>\n",
       "      <td>2018</td>\n",
       "      <td>10</td>\n",
       "      <td>16.5</td>\n",
       "      <td>8.5</td>\n",
       "      <td>61.0</td>\n",
       "      <td>137.0</td>\n",
       "    </tr>\n",
       "    <tr>\n",
       "      <th>10</th>\n",
       "      <td>2018</td>\n",
       "      <td>11</td>\n",
       "      <td>12.2</td>\n",
       "      <td>5.8</td>\n",
       "      <td>73.8</td>\n",
       "      <td>72.9</td>\n",
       "    </tr>\n",
       "    <tr>\n",
       "      <th>11</th>\n",
       "      <td>2018</td>\n",
       "      <td>12</td>\n",
       "      <td>10.7</td>\n",
       "      <td>5.2</td>\n",
       "      <td>60.6</td>\n",
       "      <td>40.3</td>\n",
       "    </tr>\n",
       "  </tbody>\n",
       "</table>\n",
       "</div>"
      ],
      "text/plain": [
       "    Year  Month  Tmax  Tmin  Rain    Sun\n",
       "0   2018      1   9.7   3.8  58.0   46.5\n",
       "1   2018      2   6.7   0.6  29.0   92.0\n",
       "2   2018      3   9.8   3.0  81.2   70.3\n",
       "3   2018      4  15.5   7.9  65.2  113.4\n",
       "4   2018      5  20.8   9.8  58.4  248.3\n",
       "5   2018      6  24.2  13.1   0.4  234.5\n",
       "6   2018      7  28.3  16.4  14.8  272.5\n",
       "7   2018      8  24.5  14.5  48.2  182.1\n",
       "8   2018      9  20.9  11.0  29.4  195.0\n",
       "9   2018     10  16.5   8.5  61.0  137.0\n",
       "10  2018     11  12.2   5.8  73.8   72.9\n",
       "11  2018     12  10.7   5.2  60.6   40.3"
      ]
     },
     "execution_count": 58,
     "metadata": {},
     "output_type": "execute_result"
    }
   ],
   "source": [
    "weather = pd.read_csv(\"https://raw.githubusercontent.com/alanjones2/dataviz/master/london2018.csv\")\n",
    "weather"
   ]
  },
  {
   "cell_type": "code",
   "execution_count": 15,
   "id": "58527400",
   "metadata": {},
   "outputs": [
    {
     "data": {
      "text/plain": [
       "<AxesSubplot:xlabel='Month'>"
      ]
     },
     "execution_count": 15,
     "metadata": {},
     "output_type": "execute_result"
    },
    {
     "data": {
      "image/png": "[encoded data removed]",
      "text/plain": [
       "<Figure size 432x288 with 1 Axes>"
      ]
     },
     "metadata": {
      "needs_background": "light"
     },
     "output_type": "display_data"
    }
   ],
   "source": [
    "weather.plot(y='Tmax',x='Month',color='mediumblue')"
   ]
  },
  {
   "cell_type": "code",
   "execution_count": 25,
   "id": "38cfd0ea",
   "metadata": {},
   "outputs": [
    {
     "data": {
      "text/plain": [
       "Text(0, 0.5, 'Sunlight')"
      ]
     },
     "execution_count": 25,
     "metadata": {},
     "output_type": "execute_result"
    },
    {
     "data": {
      "image/png": "[encoded data removed]",
      "text/plain": [
       "<Figure size 432x288 with 1 Axes>"
      ]
     },
     "metadata": {
      "needs_background": "light"
     },
     "output_type": "display_data"
    }
   ],
   "source": [
    "weather.plot(y='Sun',x='Month',color='mediumslateblue',marker='4')\n",
    "plt.xlabel('Month')\n",
    "plt.ylabel('Sunlight')"
   ]
  },
  {
   "cell_type": "code",
   "execution_count": 28,
   "id": "57a29df2",
   "metadata": {},
   "outputs": [
    {
     "data": {
      "text/plain": [
       "<AxesSubplot:xlabel='Month'>"
      ]
     },
     "execution_count": 28,
     "metadata": {},
     "output_type": "execute_result"
    },
    {
     "data": {
      "image/png": "[encoded data removed]",
      "text/plain": [
       "<Figure size 432x288 with 1 Axes>"
      ]
     },
     "metadata": {
      "needs_background": "light"
     },
     "output_type": "display_data"
    }
   ],
   "source": [
    "weather.plot.bar(y = 'Tmax',x = 'Month', color = 'mediumslateblue')"
   ]
  },
  {
   "cell_type": "code",
   "execution_count": 31,
   "id": "e9e991b0",
   "metadata": {},
   "outputs": [
    {
     "data": {
      "text/plain": [
       "<AxesSubplot:xlabel='Month'>"
      ]
     },
     "execution_count": 31,
     "metadata": {},
     "output_type": "execute_result"
    },
    {
     "data": {
      "image/png": "[encoded data removed]",
      "text/plain": [
       "<Figure size 432x288 with 1 Axes>"
      ]
     },
     "metadata": {
      "needs_background": "light"
     },
     "output_type": "display_data"
    }
   ],
   "source": [
    "weather.plot.bar(y=['Tmax','Tmin'],x='Month')"
   ]
  },
  {
   "cell_type": "code",
   "execution_count": 36,
   "id": "23891eea",
   "metadata": {},
   "outputs": [
    {
     "data": {
      "text/plain": [
       "<AxesSubplot:xlabel='Month'>"
      ]
     },
     "execution_count": 36,
     "metadata": {},
     "output_type": "execute_result"
    },
    {
     "data": {
      "image/png": "[encoded data removed]",
      "text/plain": [
       "<Figure size 432x288 with 1 Axes>"
      ]
     },
     "metadata": {
      "needs_background": "light"
     },
     "output_type": "display_data"
    }
   ],
   "source": [
    "weather.plot(y=['Tmax','Tmin','Sun'],x='Month')"
   ]
  },
  {
   "cell_type": "code",
   "execution_count": 35,
   "id": "5797fdce",
   "metadata": {},
   "outputs": [
    {
     "data": {
      "text/plain": [
       "<AxesSubplot:ylabel='Month'>"
      ]
     },
     "execution_count": 35,
     "metadata": {},
     "output_type": "execute_result"
    },
    {
     "data": {
      "image/png": "[encoded data removed]",
      "text/plain": [
       "<Figure size 432x288 with 1 Axes>"
      ]
     },
     "metadata": {
      "needs_background": "light"
     },
     "output_type": "display_data"
    }
   ],
   "source": [
    "weather.plot.barh(y=['Tmax','Tmin'],x='Month')"
   ]
  },
  {
   "cell_type": "code",
   "execution_count": 45,
   "id": "914d779f",
   "metadata": {},
   "outputs": [
    {
     "data": {
      "text/plain": [
       "array([[<AxesSubplot:title={'center':'Tmax'}, xlabel='Month'>,\n",
       "        <AxesSubplot:title={'center':'Tmin'}, xlabel='Month'>],\n",
       "       [<AxesSubplot:title={'center':'Rain'}, xlabel='Month'>,\n",
       "        <AxesSubplot:title={'center':'Sun'}, xlabel='Month'>]],\n",
       "      dtype=object)"
      ]
     },
     "execution_count": 45,
     "metadata": {},
     "output_type": "execute_result"
    },
    {
     "data": {
      "image/png": "[encoded data removed]",
      "text/plain": [
       "<Figure size 432x288 with 4 Axes>"
      ]
     },
     "metadata": {
      "needs_background": "light"
     },
     "output_type": "display_data"
    }
   ],
   "source": [
    "weather.plot.bar(y=['Tmax','Tmin','Rain','Sun'],x='Month',subplots=True, layout=(2,2))"
   ]
  },
  {
   "cell_type": "code",
   "execution_count": 46,
   "id": "8ad814a4",
   "metadata": {},
   "outputs": [
    {
     "data": {
      "text/plain": [
       "array([[<AxesSubplot:xlabel='Month'>, <AxesSubplot:xlabel='Month'>],\n",
       "       [<AxesSubplot:xlabel='Month'>, <AxesSubplot:xlabel='Month'>]],\n",
       "      dtype=object)"
      ]
     },
     "execution_count": 46,
     "metadata": {},
     "output_type": "execute_result"
    },
    {
     "data": {
      "image/png": "[encoded data removed]",
      "text/plain": [
       "<Figure size 432x288 with 4 Axes>"
      ]
     },
     "metadata": {
      "needs_background": "light"
     },
     "output_type": "display_data"
    }
   ],
   "source": [
    "weather.plot(y=['Tmax','Tmin','Rain','Sun'],x='Month',subplots=True, layout=(2,2))"
   ]
  },
  {
   "cell_type": "code",
   "execution_count": 51,
   "id": "1a0d5eba",
   "metadata": {},
   "outputs": [
    {
     "data": {
      "text/plain": [
       "<AxesSubplot:xlabel='Month', ylabel='Tmin'>"
      ]
     },
     "execution_count": 51,
     "metadata": {},
     "output_type": "execute_result"
    },
    {
     "data": {
      "image/png": "[encoded data removed]",
      "text/plain": [
       "<Figure size 432x288 with 1 Axes>"
      ]
     },
     "metadata": {
      "needs_background": "light"
     },
     "output_type": "display_data"
    }
   ],
   "source": [
    "weather.plot.scatter(y='Tmin',x='Month',color='darkblue')"
   ]
  },
  {
   "cell_type": "code",
   "execution_count": 53,
   "id": "ef41e9c0",
   "metadata": {},
   "outputs": [
    {
     "data": {
      "text/html": [
       "<div>\n",
       "<style scoped>\n",
       "    .dataframe tbody tr th:only-of-type {\n",
       "        vertical-align: middle;\n",
       "    }\n",
       "\n",
       "    .dataframe tbody tr th {\n",
       "        vertical-align: top;\n",
       "    }\n",
       "\n",
       "    .dataframe thead th {\n",
       "        text-align: right;\n",
       "    }\n",
       "</style>\n",
       "<table border=\"1\" class=\"dataframe\">\n",
       "  <thead>\n",
       "    <tr style=\"text-align: right;\">\n",
       "      <th></th>\n",
       "      <th>lunch</th>\n",
       "      <th>dinner</th>\n",
       "    </tr>\n",
       "  </thead>\n",
       "  <tbody>\n",
       "    <tr>\n",
       "      <th>Pizza</th>\n",
       "      <td>10</td>\n",
       "      <td>17</td>\n",
       "    </tr>\n",
       "    <tr>\n",
       "      <th>Hamburger</th>\n",
       "      <td>15</td>\n",
       "      <td>6</td>\n",
       "    </tr>\n",
       "    <tr>\n",
       "      <th>Curry</th>\n",
       "      <td>5</td>\n",
       "      <td>7</td>\n",
       "    </tr>\n",
       "  </tbody>\n",
       "</table>\n",
       "</div>"
      ],
      "text/plain": [
       "           lunch  dinner\n",
       "Pizza         10      17\n",
       "Hamburger     15       6\n",
       "Curry          5       7"
      ]
     },
     "execution_count": 53,
     "metadata": {},
     "output_type": "execute_result"
    }
   ],
   "source": [
    "meals=pd.read_csv('https://raw.githubusercontent.com/alanjones2/dataviz/master/meals2.csv',index_col=0)\n",
    "meals"
   ]
  },
  {
   "cell_type": "code",
   "execution_count": 54,
   "id": "3758f1fe",
   "metadata": {},
   "outputs": [
    {
     "data": {
      "text/plain": [
       "array([<AxesSubplot:ylabel='lunch'>, <AxesSubplot:ylabel='dinner'>],\n",
       "      dtype=object)"
      ]
     },
     "execution_count": 54,
     "metadata": {},
     "output_type": "execute_result"
    },
    {
     "data": {
      "image/png": "[encoded data removed]",
      "text/plain": [
       "<Figure size 432x288 with 2 Axes>"
      ]
     },
     "metadata": {},
     "output_type": "display_data"
    }
   ],
   "source": [
    "meals.plot.pie(subplots=True)"
   ]
  },
  {
   "cell_type": "code",
   "execution_count": 57,
   "id": "ba035bd5",
   "metadata": {},
   "outputs": [
    {
     "data": {
      "text/plain": [
       "<Figure size 432x288 with 0 Axes>"
      ]
     },
     "metadata": {},
     "output_type": "display_data"
    }
   ],
   "source": [
    "plt.savefig(\"PieChart.png\",dpi=300, bbox_inches='tight')"
   ]
  },
  {
   "cell_type": "code",
   "execution_count": 56,
   "id": "946d2f09",
   "metadata": {},
   "outputs": [],
   "source": [
    "plt.show()"
   ]
  },
  {
   "cell_type": "code",
   "execution_count": 59,
   "id": "d52ca7b6",
   "metadata": {},
   "outputs": [
    {
     "data": {
      "text/html": [
       "<div>\n",
       "<style scoped>\n",
       "    .dataframe tbody tr th:only-of-type {\n",
       "        vertical-align: middle;\n",
       "    }\n",
       "\n",
       "    .dataframe tbody tr th {\n",
       "        vertical-align: top;\n",
       "    }\n",
       "\n",
       "    .dataframe thead th {\n",
       "        text-align: right;\n",
       "    }\n",
       "</style>\n",
       "<table border=\"1\" class=\"dataframe\">\n",
       "  <thead>\n",
       "    <tr style=\"text-align: right;\">\n",
       "      <th></th>\n",
       "      <th>Year</th>\n",
       "      <th>Month</th>\n",
       "      <th>Tmax</th>\n",
       "      <th>Tmin</th>\n",
       "      <th>Rain</th>\n",
       "      <th>Sun</th>\n",
       "    </tr>\n",
       "  </thead>\n",
       "  <tbody>\n",
       "    <tr>\n",
       "      <th>0</th>\n",
       "      <td>2018</td>\n",
       "      <td>1</td>\n",
       "      <td>9.7</td>\n",
       "      <td>3.8</td>\n",
       "      <td>58.0</td>\n",
       "      <td>46.5</td>\n",
       "    </tr>\n",
       "    <tr>\n",
       "      <th>1</th>\n",
       "      <td>2018</td>\n",
       "      <td>2</td>\n",
       "      <td>6.7</td>\n",
       "      <td>0.6</td>\n",
       "      <td>29.0</td>\n",
       "      <td>92.0</td>\n",
       "    </tr>\n",
       "    <tr>\n",
       "      <th>2</th>\n",
       "      <td>2018</td>\n",
       "      <td>3</td>\n",
       "      <td>9.8</td>\n",
       "      <td>3.0</td>\n",
       "      <td>81.2</td>\n",
       "      <td>70.3</td>\n",
       "    </tr>\n",
       "    <tr>\n",
       "      <th>3</th>\n",
       "      <td>2018</td>\n",
       "      <td>4</td>\n",
       "      <td>15.5</td>\n",
       "      <td>7.9</td>\n",
       "      <td>65.2</td>\n",
       "      <td>113.4</td>\n",
       "    </tr>\n",
       "    <tr>\n",
       "      <th>4</th>\n",
       "      <td>2018</td>\n",
       "      <td>5</td>\n",
       "      <td>20.8</td>\n",
       "      <td>9.8</td>\n",
       "      <td>58.4</td>\n",
       "      <td>248.3</td>\n",
       "    </tr>\n",
       "    <tr>\n",
       "      <th>5</th>\n",
       "      <td>2018</td>\n",
       "      <td>6</td>\n",
       "      <td>24.2</td>\n",
       "      <td>13.1</td>\n",
       "      <td>0.4</td>\n",
       "      <td>234.5</td>\n",
       "    </tr>\n",
       "    <tr>\n",
       "      <th>6</th>\n",
       "      <td>2018</td>\n",
       "      <td>7</td>\n",
       "      <td>28.3</td>\n",
       "      <td>16.4</td>\n",
       "      <td>14.8</td>\n",
       "      <td>272.5</td>\n",
       "    </tr>\n",
       "    <tr>\n",
       "      <th>7</th>\n",
       "      <td>2018</td>\n",
       "      <td>8</td>\n",
       "      <td>24.5</td>\n",
       "      <td>14.5</td>\n",
       "      <td>48.2</td>\n",
       "      <td>182.1</td>\n",
       "    </tr>\n",
       "    <tr>\n",
       "      <th>8</th>\n",
       "      <td>2018</td>\n",
       "      <td>9</td>\n",
       "      <td>20.9</td>\n",
       "      <td>11.0</td>\n",
       "      <td>29.4</td>\n",
       "      <td>195.0</td>\n",
       "    </tr>\n",
       "    <tr>\n",
       "      <th>9</th>\n",
       "      <td>2018</td>\n",
       "      <td>10</td>\n",
       "      <td>16.5</td>\n",
       "      <td>8.5</td>\n",
       "      <td>61.0</td>\n",
       "      <td>137.0</td>\n",
       "    </tr>\n",
       "    <tr>\n",
       "      <th>10</th>\n",
       "      <td>2018</td>\n",
       "      <td>11</td>\n",
       "      <td>12.2</td>\n",
       "      <td>5.8</td>\n",
       "      <td>73.8</td>\n",
       "      <td>72.9</td>\n",
       "    </tr>\n",
       "    <tr>\n",
       "      <th>11</th>\n",
       "      <td>2018</td>\n",
       "      <td>12</td>\n",
       "      <td>10.7</td>\n",
       "      <td>5.2</td>\n",
       "      <td>60.6</td>\n",
       "      <td>40.3</td>\n",
       "    </tr>\n",
       "  </tbody>\n",
       "</table>\n",
       "</div>"
      ],
      "text/plain": [
       "    Year  Month  Tmax  Tmin  Rain    Sun\n",
       "0   2018      1   9.7   3.8  58.0   46.5\n",
       "1   2018      2   6.7   0.6  29.0   92.0\n",
       "2   2018      3   9.8   3.0  81.2   70.3\n",
       "3   2018      4  15.5   7.9  65.2  113.4\n",
       "4   2018      5  20.8   9.8  58.4  248.3\n",
       "5   2018      6  24.2  13.1   0.4  234.5\n",
       "6   2018      7  28.3  16.4  14.8  272.5\n",
       "7   2018      8  24.5  14.5  48.2  182.1\n",
       "8   2018      9  20.9  11.0  29.4  195.0\n",
       "9   2018     10  16.5   8.5  61.0  137.0\n",
       "10  2018     11  12.2   5.8  73.8   72.9\n",
       "11  2018     12  10.7   5.2  60.6   40.3"
      ]
     },
     "execution_count": 59,
     "metadata": {},
     "output_type": "execute_result"
    }
   ],
   "source": [
    "weather = pd.read_csv(\"https://raw.githubusercontent.com/alanjones2/dataviz/master/london2018.csv\")\n",
    "weather"
   ]
  },
  {
   "cell_type": "code",
   "execution_count": 62,
   "id": "851131c9",
   "metadata": {},
   "outputs": [
    {
     "data": {
      "text/html": [
       "<style type=\"text/css\">\n",
       "#T_2d619_ th {\n",
       "  background: #588472;\n",
       "  color: #79cbb8;\n",
       "  font-family: verdana;\n",
       "}\n",
       "#T_2d619_ td {\n",
       "  font-family: verdana;\n",
       "}\n",
       "#T_2d619_ tr:nth-of-type(odd) {\n",
       "  background: blue;\n",
       "}\n",
       "#T_2d619_ tr:nth-of-type(even) {\n",
       "  background: yellow;\n",
       "}\n",
       "#T_2d619_ tr:hover {\n",
       "  background-color: #322e2f;\n",
       "  color: white;\n",
       "}\n",
       "</style>\n",
       "<table id=\"T_2d619_\">\n",
       "  <thead>\n",
       "    <tr>\n",
       "      <th class=\"blank level0\" >&nbsp;</th>\n",
       "      <th class=\"col_heading level0 col0\" >Year</th>\n",
       "      <th class=\"col_heading level0 col1\" >Month</th>\n",
       "      <th class=\"col_heading level0 col2\" >Tmax</th>\n",
       "      <th class=\"col_heading level0 col3\" >Tmin</th>\n",
       "      <th class=\"col_heading level0 col4\" >Rain</th>\n",
       "      <th class=\"col_heading level0 col5\" >Sun</th>\n",
       "    </tr>\n",
       "  </thead>\n",
       "  <tbody>\n",
       "    <tr>\n",
       "      <th id=\"T_2d619_level0_row0\" class=\"row_heading level0 row0\" >0</th>\n",
       "      <td id=\"T_2d619_row0_col0\" class=\"data row0 col0\" >2018</td>\n",
       "      <td id=\"T_2d619_row0_col1\" class=\"data row0 col1\" >1</td>\n",
       "      <td id=\"T_2d619_row0_col2\" class=\"data row0 col2\" >9.700000</td>\n",
       "      <td id=\"T_2d619_row0_col3\" class=\"data row0 col3\" >3.800000</td>\n",
       "      <td id=\"T_2d619_row0_col4\" class=\"data row0 col4\" >58.000000</td>\n",
       "      <td id=\"T_2d619_row0_col5\" class=\"data row0 col5\" >46.500000</td>\n",
       "    </tr>\n",
       "    <tr>\n",
       "      <th id=\"T_2d619_level0_row1\" class=\"row_heading level0 row1\" >1</th>\n",
       "      <td id=\"T_2d619_row1_col0\" class=\"data row1 col0\" >2018</td>\n",
       "      <td id=\"T_2d619_row1_col1\" class=\"data row1 col1\" >2</td>\n",
       "      <td id=\"T_2d619_row1_col2\" class=\"data row1 col2\" >6.700000</td>\n",
       "      <td id=\"T_2d619_row1_col3\" class=\"data row1 col3\" >0.600000</td>\n",
       "      <td id=\"T_2d619_row1_col4\" class=\"data row1 col4\" >29.000000</td>\n",
       "      <td id=\"T_2d619_row1_col5\" class=\"data row1 col5\" >92.000000</td>\n",
       "    </tr>\n",
       "    <tr>\n",
       "      <th id=\"T_2d619_level0_row2\" class=\"row_heading level0 row2\" >2</th>\n",
       "      <td id=\"T_2d619_row2_col0\" class=\"data row2 col0\" >2018</td>\n",
       "      <td id=\"T_2d619_row2_col1\" class=\"data row2 col1\" >3</td>\n",
       "      <td id=\"T_2d619_row2_col2\" class=\"data row2 col2\" >9.800000</td>\n",
       "      <td id=\"T_2d619_row2_col3\" class=\"data row2 col3\" >3.000000</td>\n",
       "      <td id=\"T_2d619_row2_col4\" class=\"data row2 col4\" >81.200000</td>\n",
       "      <td id=\"T_2d619_row2_col5\" class=\"data row2 col5\" >70.300000</td>\n",
       "    </tr>\n",
       "    <tr>\n",
       "      <th id=\"T_2d619_level0_row3\" class=\"row_heading level0 row3\" >3</th>\n",
       "      <td id=\"T_2d619_row3_col0\" class=\"data row3 col0\" >2018</td>\n",
       "      <td id=\"T_2d619_row3_col1\" class=\"data row3 col1\" >4</td>\n",
       "      <td id=\"T_2d619_row3_col2\" class=\"data row3 col2\" >15.500000</td>\n",
       "      <td id=\"T_2d619_row3_col3\" class=\"data row3 col3\" >7.900000</td>\n",
       "      <td id=\"T_2d619_row3_col4\" class=\"data row3 col4\" >65.200000</td>\n",
       "      <td id=\"T_2d619_row3_col5\" class=\"data row3 col5\" >113.400000</td>\n",
       "    </tr>\n",
       "    <tr>\n",
       "      <th id=\"T_2d619_level0_row4\" class=\"row_heading level0 row4\" >4</th>\n",
       "      <td id=\"T_2d619_row4_col0\" class=\"data row4 col0\" >2018</td>\n",
       "      <td id=\"T_2d619_row4_col1\" class=\"data row4 col1\" >5</td>\n",
       "      <td id=\"T_2d619_row4_col2\" class=\"data row4 col2\" >20.800000</td>\n",
       "      <td id=\"T_2d619_row4_col3\" class=\"data row4 col3\" >9.800000</td>\n",
       "      <td id=\"T_2d619_row4_col4\" class=\"data row4 col4\" >58.400000</td>\n",
       "      <td id=\"T_2d619_row4_col5\" class=\"data row4 col5\" >248.300000</td>\n",
       "    </tr>\n",
       "    <tr>\n",
       "      <th id=\"T_2d619_level0_row5\" class=\"row_heading level0 row5\" >5</th>\n",
       "      <td id=\"T_2d619_row5_col0\" class=\"data row5 col0\" >2018</td>\n",
       "      <td id=\"T_2d619_row5_col1\" class=\"data row5 col1\" >6</td>\n",
       "      <td id=\"T_2d619_row5_col2\" class=\"data row5 col2\" >24.200000</td>\n",
       "      <td id=\"T_2d619_row5_col3\" class=\"data row5 col3\" >13.100000</td>\n",
       "      <td id=\"T_2d619_row5_col4\" class=\"data row5 col4\" >0.400000</td>\n",
       "      <td id=\"T_2d619_row5_col5\" class=\"data row5 col5\" >234.500000</td>\n",
       "    </tr>\n",
       "    <tr>\n",
       "      <th id=\"T_2d619_level0_row6\" class=\"row_heading level0 row6\" >6</th>\n",
       "      <td id=\"T_2d619_row6_col0\" class=\"data row6 col0\" >2018</td>\n",
       "      <td id=\"T_2d619_row6_col1\" class=\"data row6 col1\" >7</td>\n",
       "      <td id=\"T_2d619_row6_col2\" class=\"data row6 col2\" >28.300000</td>\n",
       "      <td id=\"T_2d619_row6_col3\" class=\"data row6 col3\" >16.400000</td>\n",
       "      <td id=\"T_2d619_row6_col4\" class=\"data row6 col4\" >14.800000</td>\n",
       "      <td id=\"T_2d619_row6_col5\" class=\"data row6 col5\" >272.500000</td>\n",
       "    </tr>\n",
       "    <tr>\n",
       "      <th id=\"T_2d619_level0_row7\" class=\"row_heading level0 row7\" >7</th>\n",
       "      <td id=\"T_2d619_row7_col0\" class=\"data row7 col0\" >2018</td>\n",
       "      <td id=\"T_2d619_row7_col1\" class=\"data row7 col1\" >8</td>\n",
       "      <td id=\"T_2d619_row7_col2\" class=\"data row7 col2\" >24.500000</td>\n",
       "      <td id=\"T_2d619_row7_col3\" class=\"data row7 col3\" >14.500000</td>\n",
       "      <td id=\"T_2d619_row7_col4\" class=\"data row7 col4\" >48.200000</td>\n",
       "      <td id=\"T_2d619_row7_col5\" class=\"data row7 col5\" >182.100000</td>\n",
       "    </tr>\n",
       "    <tr>\n",
       "      <th id=\"T_2d619_level0_row8\" class=\"row_heading level0 row8\" >8</th>\n",
       "      <td id=\"T_2d619_row8_col0\" class=\"data row8 col0\" >2018</td>\n",
       "      <td id=\"T_2d619_row8_col1\" class=\"data row8 col1\" >9</td>\n",
       "      <td id=\"T_2d619_row8_col2\" class=\"data row8 col2\" >20.900000</td>\n",
       "      <td id=\"T_2d619_row8_col3\" class=\"data row8 col3\" >11.000000</td>\n",
       "      <td id=\"T_2d619_row8_col4\" class=\"data row8 col4\" >29.400000</td>\n",
       "      <td id=\"T_2d619_row8_col5\" class=\"data row8 col5\" >195.000000</td>\n",
       "    </tr>\n",
       "    <tr>\n",
       "      <th id=\"T_2d619_level0_row9\" class=\"row_heading level0 row9\" >9</th>\n",
       "      <td id=\"T_2d619_row9_col0\" class=\"data row9 col0\" >2018</td>\n",
       "      <td id=\"T_2d619_row9_col1\" class=\"data row9 col1\" >10</td>\n",
       "      <td id=\"T_2d619_row9_col2\" class=\"data row9 col2\" >16.500000</td>\n",
       "      <td id=\"T_2d619_row9_col3\" class=\"data row9 col3\" >8.500000</td>\n",
       "      <td id=\"T_2d619_row9_col4\" class=\"data row9 col4\" >61.000000</td>\n",
       "      <td id=\"T_2d619_row9_col5\" class=\"data row9 col5\" >137.000000</td>\n",
       "    </tr>\n",
       "    <tr>\n",
       "      <th id=\"T_2d619_level0_row10\" class=\"row_heading level0 row10\" >10</th>\n",
       "      <td id=\"T_2d619_row10_col0\" class=\"data row10 col0\" >2018</td>\n",
       "      <td id=\"T_2d619_row10_col1\" class=\"data row10 col1\" >11</td>\n",
       "      <td id=\"T_2d619_row10_col2\" class=\"data row10 col2\" >12.200000</td>\n",
       "      <td id=\"T_2d619_row10_col3\" class=\"data row10 col3\" >5.800000</td>\n",
       "      <td id=\"T_2d619_row10_col4\" class=\"data row10 col4\" >73.800000</td>\n",
       "      <td id=\"T_2d619_row10_col5\" class=\"data row10 col5\" >72.900000</td>\n",
       "    </tr>\n",
       "    <tr>\n",
       "      <th id=\"T_2d619_level0_row11\" class=\"row_heading level0 row11\" >11</th>\n",
       "      <td id=\"T_2d619_row11_col0\" class=\"data row11 col0\" >2018</td>\n",
       "      <td id=\"T_2d619_row11_col1\" class=\"data row11 col1\" >12</td>\n",
       "      <td id=\"T_2d619_row11_col2\" class=\"data row11 col2\" >10.700000</td>\n",
       "      <td id=\"T_2d619_row11_col3\" class=\"data row11 col3\" >5.200000</td>\n",
       "      <td id=\"T_2d619_row11_col4\" class=\"data row11 col4\" >60.600000</td>\n",
       "      <td id=\"T_2d619_row11_col5\" class=\"data row11 col5\" >40.300000</td>\n",
       "    </tr>\n",
       "  </tbody>\n",
       "</table>\n"
      ],
      "text/plain": [
       "<pandas.io.formats.style.Styler at 0x1a49fb175b0>"
      ]
     },
     "execution_count": 62,
     "metadata": {},
     "output_type": "execute_result"
    }
   ],
   "source": [
    "weather.style.set_table_styles(\n",
    "[{'selector':'th',\n",
    "  'props':[('background', '#588472'),\n",
    "           ('color', '#79cbb8'),\n",
    "           ('font-family', 'verdana')]},\n",
    " \n",
    " {'selector': 'td',\n",
    "  'props': [('font-family', 'verdana')]},\n",
    " \n",
    " {'selector': 'tr:nth-of-type(odd)',\n",
    "  'props': [('background','blue')]},\n",
    " \n",
    " {'selector': 'tr:nth-of-type(even)',\n",
    "  'props': [('background','yellow')]},\n",
    " \n",
    " {'selector': 'tr:hover',\n",
    "  'props': [('background-color','#322e2f'),\n",
    "           ('color','white')]}\n",
    "]\n",
    ")"
   ]
  },
  {
   "cell_type": "code",
   "execution_count": null,
   "id": "37559982",
   "metadata": {},
   "outputs": [],
   "source": []
  }
 ],
 "metadata": {
  "kernelspec": {
   "display_name": "Python 3 (ipykernel)",
   "language": "python",
   "name": "python3"
  },
  "language_info": {
   "codemirror_mode": {
    "name": "ipython",
    "version": 3
   },
   "file_extension": ".py",
   "mimetype": "text/x-python",
   "name": "python",
   "nbconvert_exporter": "python",
   "pygments_lexer": "ipython3",
   "version": "3.8.7"
  }
 },
 "nbformat": 4,
 "nbformat_minor": 5
}
